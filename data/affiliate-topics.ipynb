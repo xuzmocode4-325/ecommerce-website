{
 "cells": [
  {
   "cell_type": "code",
   "execution_count": 2,
   "metadata": {},
   "outputs": [],
   "source": [
    "import pandas as pd"
   ]
  },
  {
   "cell_type": "code",
   "execution_count": 4,
   "metadata": {},
   "outputs": [],
   "source": [
    "topic_data = pd.read_csv('affiliate.csv')"
   ]
  },
  {
   "cell_type": "code",
   "execution_count": 5,
   "metadata": {},
   "outputs": [
    {
     "data": {
      "text/html": [
       "<div>\n",
       "<style scoped>\n",
       "    .dataframe tbody tr th:only-of-type {\n",
       "        vertical-align: middle;\n",
       "    }\n",
       "\n",
       "    .dataframe tbody tr th {\n",
       "        vertical-align: top;\n",
       "    }\n",
       "\n",
       "    .dataframe thead th {\n",
       "        text-align: right;\n",
       "    }\n",
       "</style>\n",
       "<table border=\"1\" class=\"dataframe\">\n",
       "  <thead>\n",
       "    <tr style=\"text-align: right;\">\n",
       "      <th></th>\n",
       "      <th>Title</th>\n",
       "      <th>Topic</th>\n",
       "      <th>Product</th>\n",
       "    </tr>\n",
       "  </thead>\n",
       "  <tbody>\n",
       "    <tr>\n",
       "      <th>0</th>\n",
       "      <td>How to Create Your First Terrarium</td>\n",
       "      <td>DIY Projects</td>\n",
       "      <td>Complete Terrarium Kit</td>\n",
       "    </tr>\n",
       "    <tr>\n",
       "      <th>1</th>\n",
       "      <td>The Ultimate Guide to Terrarium Care</td>\n",
       "      <td>Care Guides</td>\n",
       "      <td>Terrarium Care Book</td>\n",
       "    </tr>\n",
       "    <tr>\n",
       "      <th>2</th>\n",
       "      <td>Top 10 Plants for Closed Terrariums</td>\n",
       "      <td>Plant Recommendations</td>\n",
       "      <td>Succulent Plant Set</td>\n",
       "    </tr>\n",
       "    <tr>\n",
       "      <th>3</th>\n",
       "      <td>Common Mistakes to Avoid When Making a Terrarium</td>\n",
       "      <td>Educational Content</td>\n",
       "      <td>Terrarium Tool Set</td>\n",
       "    </tr>\n",
       "    <tr>\n",
       "      <th>4</th>\n",
       "      <td>Seasonal Terrarium Ideas: Spring Edition</td>\n",
       "      <td>Seasonal Content</td>\n",
       "      <td>Terrarium Decor Kit</td>\n",
       "    </tr>\n",
       "  </tbody>\n",
       "</table>\n",
       "</div>"
      ],
      "text/plain": [
       "                                              Title                  Topic  \\\n",
       "0                How to Create Your First Terrarium           DIY Projects   \n",
       "1              The Ultimate Guide to Terrarium Care            Care Guides   \n",
       "2               Top 10 Plants for Closed Terrariums  Plant Recommendations   \n",
       "3  Common Mistakes to Avoid When Making a Terrarium    Educational Content   \n",
       "4          Seasonal Terrarium Ideas: Spring Edition       Seasonal Content   \n",
       "\n",
       "                  Product  \n",
       "0  Complete Terrarium Kit  \n",
       "1     Terrarium Care Book  \n",
       "2     Succulent Plant Set  \n",
       "3      Terrarium Tool Set  \n",
       "4     Terrarium Decor Kit  "
      ]
     },
     "execution_count": 5,
     "metadata": {},
     "output_type": "execute_result"
    }
   ],
   "source": [
    "topic_data.head()"
   ]
  },
  {
   "cell_type": "code",
   "execution_count": 8,
   "metadata": {},
   "outputs": [
    {
     "data": {
      "text/plain": [
       "array(['DIY Projects', 'Care Guides', 'Plant Recommendations',\n",
       "       'Educational Content', 'Seasonal Content', 'Tips and Tricks',\n",
       "       'Product Reviews', 'Community Engagement'], dtype=object)"
      ]
     },
     "execution_count": 8,
     "metadata": {},
     "output_type": "execute_result"
    }
   ],
   "source": [
    "topic_data['Topic'] = topic_data['Topic'].str.strip()\n",
    "topic_data['Topic'].unique()\n",
    "\n"
   ]
  },
  {
   "cell_type": "code",
   "execution_count": 9,
   "metadata": {},
   "outputs": [
    {
     "data": {
      "text/html": [
       "<div>\n",
       "<style scoped>\n",
       "    .dataframe tbody tr th:only-of-type {\n",
       "        vertical-align: middle;\n",
       "    }\n",
       "\n",
       "    .dataframe tbody tr th {\n",
       "        vertical-align: top;\n",
       "    }\n",
       "\n",
       "    .dataframe thead th {\n",
       "        text-align: right;\n",
       "    }\n",
       "</style>\n",
       "<table border=\"1\" class=\"dataframe\">\n",
       "  <thead>\n",
       "    <tr style=\"text-align: right;\">\n",
       "      <th></th>\n",
       "      <th>Title</th>\n",
       "      <th>Topic</th>\n",
       "      <th>Product</th>\n",
       "    </tr>\n",
       "  </thead>\n",
       "  <tbody>\n",
       "    <tr>\n",
       "      <th>24</th>\n",
       "      <td>Planning Your First Workshop: Terrarium Making</td>\n",
       "      <td>Community Engagement</td>\n",
       "      <td>Terrarium Workshop Supplies</td>\n",
       "    </tr>\n",
       "  </tbody>\n",
       "</table>\n",
       "</div>"
      ],
      "text/plain": [
       "                                             Title                 Topic  \\\n",
       "24  Planning Your First Workshop: Terrarium Making  Community Engagement   \n",
       "\n",
       "                        Product  \n",
       "24  Terrarium Workshop Supplies  "
      ]
     },
     "execution_count": 9,
     "metadata": {},
     "output_type": "execute_result"
    }
   ],
   "source": [
    "topic_data[topic_data['Topic'] == 'Community Engagement']"
   ]
  },
  {
   "cell_type": "markdown",
   "metadata": {},
   "source": []
  }
 ],
 "metadata": {
  "kernelspec": {
   "display_name": "base",
   "language": "python",
   "name": "python3"
  },
  "language_info": {
   "codemirror_mode": {
    "name": "ipython",
    "version": 3
   },
   "file_extension": ".py",
   "mimetype": "text/x-python",
   "name": "python",
   "nbconvert_exporter": "python",
   "pygments_lexer": "ipython3",
   "version": "3.12.2"
  }
 },
 "nbformat": 4,
 "nbformat_minor": 2
}
